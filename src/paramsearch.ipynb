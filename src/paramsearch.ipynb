{
 "cells": [
  {
   "cell_type": "code",
   "execution_count": 1,
   "metadata": {
    "collapsed": true,
    "pycharm": {
     "is_executing": false
    }
   },
   "outputs": [
    {
     "name": "stdout",
     "text": [
      "helloworld\n"
     ],
     "output_type": "stream"
    }
   ],
   "source": [
    "\n",
    "print(\"helloworld\")\n",
    "\n"
   ]
  },
  {
   "cell_type": "code",
   "execution_count": 1,
   "outputs": [],
   "source": [
    "\n",
    "import os\n",
    "import findspark\n",
    "findspark.init('/Users/jerdavis/devlib/spark-2.4.3-bin-hadoop2.7/')\n",
    "\n",
    "os.environ['PYSPARK_SUBMIT_ARGS'] = '--jars /Users/jerdavis/devlib/xgboost/xgboost4j-spark-0.90.jar,/Users/jerdavis/devlib/xgboost/xgboost4j-0.90.jar,/Users/jerdavis/devhome/projects/pysparkgw/target/scala-2.11/pysparkgw_2.11-0.1.jar pyspark-shell'\n",
    "findspark.init()\n"
   ],
   "metadata": {
    "collapsed": false,
    "pycharm": {
     "name": "#%%\n",
     "is_executing": false
    }
   }
  },
  {
   "cell_type": "code",
   "execution_count": 2,
   "outputs": [],
   "source": [
    "\n",
    "\n",
    "import numpy\n",
    "import pyspark\n",
    "\n",
    "from pyspark.sql.session import SparkSession\n",
    "from pyspark.sql.types import *\n",
    "from pyspark.ml.feature import StringIndexer, VectorAssembler\n",
    "from pyspark.ml import Pipeline\n",
    "from pyspark.sql.functions import col\n",
    "\n",
    "spark = SparkSession.builder.appName(\"foo\")\\\n",
    "    .master(\"local[*]\")\\\n",
    "    .config(\"spark.driver.memory\",\"8G\")\\\n",
    "    .config(\"spark.driver.maxResultSize\", \"2G\")\\\n",
    "    .getOrCreate()\n",
    "\n",
    "    # .config(\"spark.driver.extraClassPath\", \"/Users/jerdavis/devlib/xgboost/xgboost4j-spark-0.90.jar:/Users/jerdavis/devlib/xgboost/xgboost4j-0.90.jar:/Users/jerdavis/devhome/projects/pysparkgw/target/scala-2.11/pysparkgw_2.11-0.1.jar\")\\\n",
    "    # .config(\"spark.executor.extraClassPath\", \"/Users/jerdavis/devlib/xgboost/xgboost4j-spark-0.90.jar:/Users/jerdavis/devlib/xgboost/xgboost4j-0.90.jar:/Users/jerdavis/devhome/projects/pysparkgw/target/scala-2.11/pysparkgw_2.11-0.1.jar\")\\\n",
    "    # .config(\"spark.jars\", \"/Users/jerdavis/devlib/xgboost/xgboost4j-spark-0.90.jar:/Users/jerdavis/devlib/xgboost/xgboost4j-0.90.jar:/Users/jerdavis/devhome/projects/pysparkgw/target/scala-2.11/pysparkgw_2.11-0.1.jar\")\\\n",
    "\n",
    "#spark.sparkContext.addPyFile(\"/Users/jerdavis/devlib/xgboost/sparkxgb.zip\")\n",
    "\n",
    "#import sparkxgb\n",
    "#from sparkxgb import XGBoostEstimator\n",
    "\n",
    "\n",
    "# selfHelper = spark.sparkContext._jvm.jd.PyTest\n",
    "# selfHelper.quoteRandallzz()\n",
    "\n"
   ],
   "metadata": {
    "collapsed": false,
    "pycharm": {
     "name": "#%%\n",
     "is_executing": false
    }
   }
  },
  {
   "cell_type": "code",
   "execution_count": 3,
   "outputs": [
    {
     "name": "stdout",
     "text": [
      "\n",
      "+-----------+----------+\n|PassengerId|prediction|\n+-----------+----------+\n|        1.0|       0.0|\n|        4.0|       1.0|\n|       14.0|       0.0|\n|       15.0|       1.0|\n|       20.0|       1.0|\n|       28.0|       1.0|\n|       34.0|       0.0|\n|       38.0|       0.0|\n|       50.0|       1.0|\n|       52.0|       0.0|\n|       59.0|       1.0|\n|       60.0|       0.0|\n|       82.0|       0.0|\n|       94.0|       0.0|\n|       96.0|       0.0|\n|       99.0|       1.0|\n|      104.0|       0.0|\n|      105.0|       0.0|\n|      107.0|       1.0|\n|      116.0|       0.0|\n+-----------+----------+\nonly showing top 20 rows\n\n"
     ],
     "output_type": "stream"
    }
   ],
   "source": [
    "\n",
    "selfHelper = spark.sparkContext._jvm.jd.PyTest\n",
    "#selfHelper.foo(123,\"smoo\")\n",
    "print(selfHelper.bar(123,\"smoo\",spark.sparkContext._jsc))\n",
    "\n",
    "rr = spark.sql(\"SELECT * from rr\")\n",
    "rr.show()\n",
    "\n",
    "# schema = StructType(\n",
    "#   [StructField(\"PassengerId\", DoubleType()),\n",
    "#     StructField(\"Survival\", DoubleType()),\n",
    "#     StructField(\"Pclass\", DoubleType()),\n",
    "#     StructField(\"Name\", StringType()),\n",
    "#     StructField(\"Sex\", StringType()),\n",
    "#     StructField(\"Age\", DoubleType()),\n",
    "#     StructField(\"SibSp\", DoubleType()),\n",
    "#     StructField(\"Parch\", DoubleType()),\n",
    "#     StructField(\"Ticket\", StringType()),\n",
    "#     StructField(\"Fare\", DoubleType()),\n",
    "#     StructField(\"Cabin\", StringType()),\n",
    "#     StructField(\"Embarked\", StringType())\n",
    "#   ])\n",
    "# \n",
    "# df_raw = spark\\\n",
    "#   .read\\\n",
    "#   .option(\"header\", \"true\")\\\n",
    "#   .schema(schema)\\\n",
    "#   .csv(\"/Users/jerdavis/devlib/xgboost/train.csv\")\n",
    "# df = df_raw.na.fill(0)\n"
   ],
   "metadata": {
    "collapsed": false,
    "pycharm": {
     "name": "#%%\n",
     "is_executing": false
    }
   }
  },
  {
   "cell_type": "code",
   "execution_count": 10,
   "outputs": [],
   "source": [
    "sexIndexer = StringIndexer()\\\n",
    "  .setInputCol(\"Sex\")\\\n",
    "  .setOutputCol(\"SexIndex\")\\\n",
    "  .setHandleInvalid(\"keep\")\n",
    "    \n",
    "cabinIndexer = StringIndexer()\\\n",
    "  .setInputCol(\"Cabin\")\\\n",
    "  .setOutputCol(\"CabinIndex\")\\\n",
    "  .setHandleInvalid(\"keep\")\n",
    "    \n",
    "embarkedIndexer = StringIndexer()\\\n",
    "  .setInputCol(\"Embarked\")\\\n",
    "  .setOutputCol(\"EmbarkedIndex\")\\\n",
    "  .setHandleInvalid(\"keep\")\n",
    "\n",
    "vectorAssembler = VectorAssembler()\\\n",
    "  .setInputCols([\"Pclass\", \"SexIndex\", \"Age\", \"SibSp\", \"Parch\", \"Fare\", \"CabinIndex\", \"EmbarkedIndex\"])\\\n",
    "  .setOutputCol(\"features\")\n",
    "\n",
    "foo = {\"featuresCol\":\"features\",\"labelCol\":\"Survival\",\"predictionCol\":\"prediction\"}\n",
    "\n",
    "#xgboost = XGBoostEstimator(foo)\n",
    "    # featuresCol=\"features\", \n",
    "    # labelCol=\"Survival\", \n",
    "    # predictionCol=\"prediction\",\n",
    "    # maxDepth=\"20\",\n",
    "\n",
    "\n",
    "# xgboost = XGBoostEstimator(\n",
    "#     featuresCol=\"features\", \n",
    "#     labelCol=\"Survival\", \n",
    "#     predictionCol=\"prediction\")\n",
    "    \n",
    " \n",
    "pipeline = Pipeline().setStages([sexIndexer, cabinIndexer, embarkedIndexer, vectorAssembler, xgboost])\n",
    "\n"
   ],
   "metadata": {
    "collapsed": false,
    "pycharm": {
     "name": "#%%\n",
     "is_executing": false
    }
   }
  },
  {
   "cell_type": "code",
   "execution_count": 5,
   "outputs": [
    {
     "name": "stdout",
     "text": [
      "+-----------+----------+\n|PassengerId|prediction|\n+-----------+----------+\n|        1.0|       0.0|\n|        4.0|       1.0|\n|       14.0|       0.0|\n|       15.0|       1.0|\n|       20.0|       1.0|\n|       28.0|       1.0|\n|       34.0|       0.0|\n|       38.0|       0.0|\n|       50.0|       1.0|\n|       52.0|       0.0|\n|       59.0|       1.0|\n|       60.0|       0.0|\n|       82.0|       0.0|\n|       94.0|       0.0|\n|       96.0|       0.0|\n|       99.0|       1.0|\n|      104.0|       0.0|\n|      105.0|       0.0|\n|      107.0|       1.0|\n|      116.0|       0.0|\n+-----------+----------+\nonly showing top 20 rows\n\n"
     ],
     "output_type": "stream"
    }
   ],
   "source": [
    "trainDF, testDF = df.randomSplit([0.8, 0.2], seed=24)\n",
    "model = pipeline.fit(trainDF)\n",
    "model.transform(testDF).select(col(\"PassengerId\"), col(\"prediction\")).show()\n"
   ],
   "metadata": {
    "collapsed": false,
    "pycharm": {
     "name": "#%%\n",
     "is_executing": false
    }
   }
  },
  {
   "cell_type": "code",
   "execution_count": 17,
   "outputs": [
    {
     "name": "stdout",
     "text": [
      "pre-fmin\n\r  0%|          | 0/120 [00:00<?, ?it/s, best loss: ?]",
      "\r                                                     ",
      "\r",
      "Pre-#############################################\n\r  0%|          | 0/120 [00:00<?, ?it/s, best loss: ?]",
      "\r                                                     ",
      "\r",
      "{'model': 'foom', 'params': {'alpha': 0.0, 'colsample_bylevel': 1.0, 'colsample_bynode': 1.0, 'colsample_bytree': 1.0, 'eta': 0.15997244968464575, 'gamma': 1.0, 'lambda': 1.0, 'max_bin': 384.0, 'max_depth': 21.0, 'max_leaves': 0, 'min_child_weight': 1.0, 'num_early_stopping_rounds': 10, 'num_parallel_tree': 4.0, 'num_round': 100, 'subsample': 1.0}}\n\r  0%|          | 0/120 [00:00<?, ?it/s, best loss: ?]",
      "\r  1%|          | 1/120 [00:08<17:42,  8.93s/it, best loss: 0.004826009273529053]",
      "\r                                                                                ",
      "\r",
      "Pre-#############################################\n\r  1%|          | 1/120 [00:08<17:42,  8.93s/it, best loss: 0.004826009273529053]",
      "\r                                                                                ",
      "\r",
      "{'model': 'foom', 'params': {'alpha': 0.0, 'colsample_bylevel': 1.0, 'colsample_bynode': 1.0, 'colsample_bytree': 1.0, 'eta': 0.09431689831712176, 'gamma': 1.0, 'lambda': 1.0, 'max_bin': 384.0, 'max_depth': 12.0, 'max_leaves': 0, 'min_child_weight': 1.0, 'num_early_stopping_rounds': 10, 'num_parallel_tree': 36.0, 'num_round': 100, 'subsample': 1.0}}\n\r  1%|          | 1/120 [00:08<17:42,  8.93s/it, best loss: 0.004826009273529053]",
      "\r  2%|▏         | 2/120 [00:11<13:35,  6.91s/it, best loss: 0.004826009273529053]",
      "\r                                                                                ",
      "\r",
      "Pre-#############################################\n\r  2%|▏         | 2/120 [00:11<13:35,  6.91s/it, best loss: 0.004826009273529053]",
      "\r                                                                                ",
      "\r",
      "{'model': 'foom', 'params': {'alpha': 0.0, 'colsample_bylevel': 1.0, 'colsample_bynode': 1.0, 'colsample_bytree': 1.0, 'eta': 0.622958664408284, 'gamma': 1.0, 'lambda': 1.0, 'max_bin': 448.0, 'max_depth': 42.0, 'max_leaves': 0, 'min_child_weight': 1.0, 'num_early_stopping_rounds': 10, 'num_parallel_tree': 20.0, 'num_round': 100, 'subsample': 1.0}}\n\r  2%|▏         | 2/120 [00:11<13:35,  6.91s/it, best loss: 0.004826009273529053]",
      "\r  2%|▎         | 3/120 [00:13<10:39,  5.46s/it, best loss: 0.004826009273529053]",
      "\r                                                                                ",
      "\r",
      "Pre-#############################################\n\r  2%|▎         | 3/120 [00:13<10:39,  5.46s/it, best loss: 0.004826009273529053]",
      "\r                                                                                ",
      "\r",
      "{'model': 'foom', 'params': {'alpha': 0.0, 'colsample_bylevel': 1.0, 'colsample_bynode': 1.0, 'colsample_bytree': 1.0, 'eta': 0.5390773917461212, 'gamma': 1.0, 'lambda': 1.0, 'max_bin': 288.0, 'max_depth': 18.0, 'max_leaves': 0, 'min_child_weight': 1.0, 'num_early_stopping_rounds': 10, 'num_parallel_tree': 46.0, 'num_round': 100, 'subsample': 1.0}}\n\r  2%|▎         | 3/120 [00:13<10:39,  5.46s/it, best loss: 0.004826009273529053]",
      "\r  3%|▎         | 4/120 [00:15<08:40,  4.48s/it, best loss: 0.003720998764038086]",
      "\r                                                                                ",
      "\r",
      "Pre-#############################################\n\r  3%|▎         | 4/120 [00:15<08:40,  4.48s/it, best loss: 0.003720998764038086]",
      "\r                                                                                ",
      "\r",
      "{'model': 'foom', 'params': {'alpha': 0.0, 'colsample_bylevel': 1.0, 'colsample_bynode': 1.0, 'colsample_bytree': 1.0, 'eta': 0.4149594359676799, 'gamma': 1.0, 'lambda': 1.0, 'max_bin': 192.0, 'max_depth': 21.0, 'max_leaves': 0, 'min_child_weight': 1.0, 'num_early_stopping_rounds': 10, 'num_parallel_tree': 16.0, 'num_round': 100, 'subsample': 1.0}}\n\r  3%|▎         | 4/120 [00:15<08:40,  4.48s/it, best loss: 0.003720998764038086]",
      "\r  4%|▍         | 5/120 [00:17<07:05,  3.70s/it, best loss: 0.003720998764038086]",
      "\r                                                                                ",
      "\r",
      "Pre-#############################################\n\r  4%|▍         | 5/120 [00:17<07:05,  3.70s/it, best loss: 0.003720998764038086]",
      "\r                                                                                ",
      "\r",
      "{'model': 'foom', 'params': {'alpha': 0.0, 'colsample_bylevel': 1.0, 'colsample_bynode': 1.0, 'colsample_bytree': 1.0, 'eta': 0.10638277061927903, 'gamma': 1.0, 'lambda': 1.0, 'max_bin': 32.0, 'max_depth': 3.0, 'max_leaves': 0, 'min_child_weight': 1.0, 'num_early_stopping_rounds': 10, 'num_parallel_tree': 28.0, 'num_round': 100, 'subsample': 1.0}}\n\r  4%|▍         | 5/120 [00:17<07:05,  3.70s/it, best loss: 0.003720998764038086]",
      "\r  5%|▌         | 6/120 [00:19<05:58,  3.15s/it, best loss: 0.003720998764038086]",
      "\r                                                                                ",
      "\r",
      "Pre-#############################################\n\r  5%|▌         | 6/120 [00:19<05:58,  3.15s/it, best loss: 0.003720998764038086]",
      "\r                                                                                ",
      "\r",
      "{'model': 'foom', 'params': {'alpha': 0.0, 'colsample_bylevel': 1.0, 'colsample_bynode': 1.0, 'colsample_bytree': 1.0, 'eta': 0.8130994705588735, 'gamma': 1.0, 'lambda': 1.0, 'max_bin': 288.0, 'max_depth': 54.0, 'max_leaves': 0, 'min_child_weight': 1.0, 'num_early_stopping_rounds': 10, 'num_parallel_tree': 18.0, 'num_round': 100, 'subsample': 1.0}}\n\r  5%|▌         | 6/120 [00:19<05:58,  3.15s/it, best loss: 0.003720998764038086]",
      "\r  6%|▌         | 7/120 [00:20<05:06,  2.71s/it, best loss: 0.0036050081253051758]",
      "\r                                                                                 ",
      "\r",
      "Pre-#############################################\n\r  6%|▌         | 7/120 [00:20<05:06,  2.71s/it, best loss: 0.0036050081253051758]",
      "\r                                                                                 ",
      "\r",
      "{'model': 'foom', 'params': {'alpha': 0.0, 'colsample_bylevel': 1.0, 'colsample_bynode': 1.0, 'colsample_bytree': 1.0, 'eta': 0.7282308017003284, 'gamma': 1.0, 'lambda': 1.0, 'max_bin': 480.0, 'max_depth': 42.0, 'max_leaves': 0, 'min_child_weight': 1.0, 'num_early_stopping_rounds': 10, 'num_parallel_tree': 32.0, 'num_round': 100, 'subsample': 1.0}}\n\r  6%|▌         | 7/120 [00:20<05:06,  2.71s/it, best loss: 0.0036050081253051758]",
      "\r  7%|▋         | 8/120 [00:22<04:33,  2.44s/it, best loss: 0.002608001232147217] ",
      "\r                                                                                ",
      "\r",
      "Pre-#############################################\n\r  7%|▋         | 8/120 [00:22<04:33,  2.44s/it, best loss: 0.002608001232147217]",
      "\r                                                                                ",
      "\r",
      "{'model': 'foom', 'params': {'alpha': 0.0, 'colsample_bylevel': 1.0, 'colsample_bynode': 1.0, 'colsample_bytree': 1.0, 'eta': 0.8921331596316668, 'gamma': 1.0, 'lambda': 1.0, 'max_bin': 32.0, 'max_depth': 15.0, 'max_leaves': 0, 'min_child_weight': 1.0, 'num_early_stopping_rounds': 10, 'num_parallel_tree': 2.0, 'num_round': 100, 'subsample': 1.0}}\n\r  7%|▋         | 8/120 [00:22<04:33,  2.44s/it, best loss: 0.002608001232147217]",
      "\r  8%|▊         | 9/120 [00:24<04:03,  2.20s/it, best loss: 0.002608001232147217]",
      "\r                                                                                ",
      "\r",
      "Pre-#############################################\n\r  8%|▊         | 9/120 [00:24<04:03,  2.20s/it, best loss: 0.002608001232147217]",
      "\r                                                                                ",
      "\r",
      "{'model': 'foom', 'params': {'alpha': 0.0, 'colsample_bylevel': 1.0, 'colsample_bynode': 1.0, 'colsample_bytree': 1.0, 'eta': 0.604811327074162, 'gamma': 1.0, 'lambda': 1.0, 'max_bin': 96.0, 'max_depth': 33.0, 'max_leaves': 0, 'min_child_weight': 1.0, 'num_early_stopping_rounds': 10, 'num_parallel_tree': 26.0, 'num_round': 100, 'subsample': 1.0}}\n\r  8%|▊         | 9/120 [00:24<04:03,  2.20s/it, best loss: 0.002608001232147217]",
      "\r  8%|▊         | 10/120 [00:26<03:47,  2.07s/it, best loss: 0.002608001232147217]",
      "\r                                                                                 ",
      "\r",
      "Pre-#############################################\n\r  8%|▊         | 10/120 [00:26<03:47,  2.07s/it, best loss: 0.002608001232147217]",
      "\r                                                                                 ",
      "\r",
      "{'model': 'foom', 'params': {'alpha': 0.0, 'colsample_bylevel': 1.0, 'colsample_bynode': 1.0, 'colsample_bytree': 1.0, 'eta': 0.9271058224113227, 'gamma': 1.0, 'lambda': 1.0, 'max_bin': 288.0, 'max_depth': 12.0, 'max_leaves': 0, 'min_child_weight': 1.0, 'num_early_stopping_rounds': 10, 'num_parallel_tree': 20.0, 'num_round': 100, 'subsample': 1.0}}\n\r  8%|▊         | 10/120 [00:26<03:47,  2.07s/it, best loss: 0.002608001232147217]",
      "\r  9%|▉         | 11/120 [00:27<03:31,  1.94s/it, best loss: 0.002547025680541992]",
      "\r                                                                                 ",
      "\r",
      "Pre-#############################################\n\r  9%|▉         | 11/120 [00:27<03:31,  1.94s/it, best loss: 0.002547025680541992]",
      "\r                                                                                 ",
      "\r",
      "{'model': 'foom', 'params': {'alpha': 0.0, 'colsample_bylevel': 1.0, 'colsample_bynode': 1.0, 'colsample_bytree': 1.0, 'eta': 0.6838108624526286, 'gamma': 1.0, 'lambda': 1.0, 'max_bin': 224.0, 'max_depth': 42.0, 'max_leaves': 0, 'min_child_weight': 1.0, 'num_early_stopping_rounds': 10, 'num_parallel_tree': 16.0, 'num_round': 100, 'subsample': 1.0}}\n\r  9%|▉         | 11/120 [00:27<03:31,  1.94s/it, best loss: 0.002547025680541992]",
      "\r 10%|█         | 12/120 [00:29<03:20,  1.85s/it, best loss: 0.002547025680541992]",
      "\r                                                                                 ",
      "\r",
      "Pre-#############################################\n\r 10%|█         | 12/120 [00:29<03:20,  1.85s/it, best loss: 0.002547025680541992]",
      "\r                                                                                 ",
      "\r",
      "{'model': 'foom', 'params': {'alpha': 0.0, 'colsample_bylevel': 1.0, 'colsample_bynode': 1.0, 'colsample_bytree': 1.0, 'eta': 0.44453941772705097, 'gamma': 1.0, 'lambda': 1.0, 'max_bin': 128.0, 'max_depth': 15.0, 'max_leaves': 0, 'min_child_weight': 1.0, 'num_early_stopping_rounds': 10, 'num_parallel_tree': 58.0, 'num_round': 100, 'subsample': 1.0}}\n\r 10%|█         | 12/120 [00:29<03:20,  1.85s/it, best loss: 0.002547025680541992]",
      "\r 11%|█         | 13/120 [00:31<03:15,  1.83s/it, best loss: 0.002547025680541992]",
      "\r                                                                                 ",
      "\r",
      "Pre-#############################################\n\r 11%|█         | 13/120 [00:31<03:15,  1.83s/it, best loss: 0.002547025680541992]",
      "\r                                                                                 ",
      "\r",
      "{'model': 'foom', 'params': {'alpha': 0.0, 'colsample_bylevel': 1.0, 'colsample_bynode': 1.0, 'colsample_bytree': 1.0, 'eta': 0.3503198990314368, 'gamma': 1.0, 'lambda': 1.0, 'max_bin': 224.0, 'max_depth': 27.0, 'max_leaves': 0, 'min_child_weight': 1.0, 'num_early_stopping_rounds': 10, 'num_parallel_tree': 10.0, 'num_round': 100, 'subsample': 1.0}}\n\r 11%|█         | 13/120 [00:31<03:15,  1.83s/it, best loss: 0.002547025680541992]",
      "\r 12%|█▏        | 14/120 [00:32<03:07,  1.77s/it, best loss: 0.0020599961280822754]",
      "\r                                                                                  ",
      "\r",
      "Pre-#############################################\n\r 12%|█▏        | 14/120 [00:32<03:07,  1.77s/it, best loss: 0.0020599961280822754]",
      "\r                                                                                  ",
      "\r",
      "{'model': 'foom', 'params': {'alpha': 0.0, 'colsample_bylevel': 1.0, 'colsample_bynode': 1.0, 'colsample_bytree': 1.0, 'eta': 0.0814265677827769, 'gamma': 1.0, 'lambda': 1.0, 'max_bin': 64.0, 'max_depth': 39.0, 'max_leaves': 0, 'min_child_weight': 1.0, 'num_early_stopping_rounds': 10, 'num_parallel_tree': 44.0, 'num_round': 100, 'subsample': 1.0}}\n\r 12%|█▏        | 14/120 [00:32<03:07,  1.77s/it, best loss: 0.0020599961280822754]",
      "\r 12%|█▎        | 15/120 [00:34<03:02,  1.74s/it, best loss: 0.0020599961280822754]",
      "\r                                                                                  ",
      "\r",
      "Pre-#############################################\n\r 12%|█▎        | 15/120 [00:34<03:02,  1.74s/it, best loss: 0.0020599961280822754]",
      "\r                                                                                  ",
      "\r",
      "{'model': 'foom', 'params': {'alpha': 0.0, 'colsample_bylevel': 1.0, 'colsample_bynode': 1.0, 'colsample_bytree': 1.0, 'eta': 0.42445052507474834, 'gamma': 1.0, 'lambda': 1.0, 'max_bin': 288.0, 'max_depth': 30.0, 'max_leaves': 0, 'min_child_weight': 1.0, 'num_early_stopping_rounds': 10, 'num_parallel_tree': 16.0, 'num_round': 100, 'subsample': 1.0}}\n\r 12%|█▎        | 15/120 [00:34<03:02,  1.74s/it, best loss: 0.0020599961280822754]",
      "\r 13%|█▎        | 16/120 [00:36<03:11,  1.84s/it, best loss: 0.0020599961280822754]",
      "\r                                                                                  ",
      "\r",
      "Pre-#############################################\n\r 13%|█▎        | 16/120 [00:36<03:11,  1.84s/it, best loss: 0.0020599961280822754]",
      "\r                                                                                  ",
      "\r",
      "{'model': 'foom', 'params': {'alpha': 0.0, 'colsample_bylevel': 1.0, 'colsample_bynode': 1.0, 'colsample_bytree': 1.0, 'eta': 0.7538626660001488, 'gamma': 1.0, 'lambda': 1.0, 'max_bin': 384.0, 'max_depth': 48.0, 'max_leaves': 0, 'min_child_weight': 1.0, 'num_early_stopping_rounds': 10, 'num_parallel_tree': 2.0, 'num_round': 100, 'subsample': 1.0}}\n\r 13%|█▎        | 16/120 [00:36<03:11,  1.84s/it, best loss: 0.0020599961280822754]",
      "\r 14%|█▍        | 17/120 [00:38<03:05,  1.80s/it, best loss: 0.0020599961280822754]",
      "\r                                                                                  ",
      "\r",
      "Pre-#############################################\n\r 14%|█▍        | 17/120 [00:38<03:05,  1.80s/it, best loss: 0.0020599961280822754]",
      "\r                                                                                  ",
      "\r",
      "{'model': 'foom', 'params': {'alpha': 0.0, 'colsample_bylevel': 1.0, 'colsample_bynode': 1.0, 'colsample_bytree': 1.0, 'eta': 0.5086018348182574, 'gamma': 1.0, 'lambda': 1.0, 'max_bin': 128.0, 'max_depth': 6.0, 'max_leaves': 0, 'min_child_weight': 1.0, 'num_early_stopping_rounds': 10, 'num_parallel_tree': 28.0, 'num_round': 100, 'subsample': 1.0}}\n\r 14%|█▍        | 17/120 [00:38<03:05,  1.80s/it, best loss: 0.0020599961280822754]",
      "\r 15%|█▌        | 18/120 [00:39<03:01,  1.78s/it, best loss: 0.0020599961280822754]",
      "\r                                                                                  ",
      "\r",
      "Pre-#############################################\n\r 15%|█▌        | 18/120 [00:39<03:01,  1.78s/it, best loss: 0.0020599961280822754]",
      "\r                                                                                  ",
      "\r",
      "{'model': 'foom', 'params': {'alpha': 0.0, 'colsample_bylevel': 1.0, 'colsample_bynode': 1.0, 'colsample_bytree': 1.0, 'eta': 0.24356973427886042, 'gamma': 1.0, 'lambda': 1.0, 'max_bin': 256.0, 'max_depth': 54.0, 'max_leaves': 0, 'min_child_weight': 1.0, 'num_early_stopping_rounds': 10, 'num_parallel_tree': 32.0, 'num_round': 100, 'subsample': 1.0}}\n\r 15%|█▌        | 18/120 [00:39<03:01,  1.78s/it, best loss: 0.0020599961280822754]",
      "\r 16%|█▌        | 19/120 [00:41<02:58,  1.77s/it, best loss: 0.0020599961280822754]",
      "\r                                                                                  ",
      "\r",
      "Pre-#############################################\n\r 16%|█▌        | 19/120 [00:41<02:58,  1.77s/it, best loss: 0.0020599961280822754]",
      "\r                                                                                  ",
      "\r",
      "{'model': 'foom', 'params': {'alpha': 0.0, 'colsample_bylevel': 1.0, 'colsample_bynode': 1.0, 'colsample_bytree': 1.0, 'eta': 0.8138166379777342, 'gamma': 1.0, 'lambda': 1.0, 'max_bin': 256.0, 'max_depth': 36.0, 'max_leaves': 0, 'min_child_weight': 1.0, 'num_early_stopping_rounds': 10, 'num_parallel_tree': 18.0, 'num_round': 100, 'subsample': 1.0}}\n\r 16%|█▌        | 19/120 [00:41<02:58,  1.77s/it, best loss: 0.0020599961280822754]",
      "\r 17%|█▋        | 20/120 [00:43<02:51,  1.72s/it, best loss: 0.0020599961280822754]",
      "\n"
     ],
     "output_type": "stream"
    },
    {
     "traceback": [
      "\u001b[0;31m---------------------------------------------------------------------------\u001b[0m",
      "\u001b[0;31mAssertionError\u001b[0m                            Traceback (most recent call last)",
      "\u001b[0;32m<ipython-input-17-0416c0c140c9>\u001b[0m in \u001b[0;36m<module>\u001b[0;34m\u001b[0m\n\u001b[1;32m     78\u001b[0m \u001b[0mtrials\u001b[0m \u001b[0;34m=\u001b[0m \u001b[0mTrials\u001b[0m\u001b[0;34m(\u001b[0m\u001b[0;34m)\u001b[0m\u001b[0;34m\u001b[0m\u001b[0m\n\u001b[1;32m     79\u001b[0m \u001b[0mprint\u001b[0m\u001b[0;34m(\u001b[0m\u001b[0;34m\"pre-fmin\"\u001b[0m\u001b[0;34m)\u001b[0m\u001b[0;34m\u001b[0m\u001b[0m\n\u001b[0;32m---> 80\u001b[0;31m \u001b[0mbest_params\u001b[0m \u001b[0;34m=\u001b[0m \u001b[0mfmin\u001b[0m\u001b[0;34m(\u001b[0m \u001b[0mfn\u001b[0m\u001b[0;34m=\u001b[0m\u001b[0mtrain_help\u001b[0m\u001b[0;34m,\u001b[0m \u001b[0mspace\u001b[0m \u001b[0;34m=\u001b[0m \u001b[0mparam_space\u001b[0m\u001b[0;34m,\u001b[0m \u001b[0malgo\u001b[0m\u001b[0;34m=\u001b[0m\u001b[0mtpe\u001b[0m\u001b[0;34m.\u001b[0m\u001b[0msuggest\u001b[0m\u001b[0;34m,\u001b[0m \u001b[0mmax_evals\u001b[0m \u001b[0;34m=\u001b[0m \u001b[0;36m120\u001b[0m\u001b[0;34m,\u001b[0m \u001b[0mtrials\u001b[0m \u001b[0;34m=\u001b[0m \u001b[0mtrials\u001b[0m\u001b[0;34m)\u001b[0m\u001b[0;34m\u001b[0m\u001b[0m\n\u001b[0m\u001b[1;32m     81\u001b[0m \u001b[0mprint\u001b[0m\u001b[0;34m(\u001b[0m\u001b[0;34m\"post-fmin\"\u001b[0m\u001b[0;34m)\u001b[0m\u001b[0;34m\u001b[0m\u001b[0m\n\u001b[1;32m     82\u001b[0m \u001b[0mprint\u001b[0m\u001b[0;34m(\u001b[0m\u001b[0mbest_params\u001b[0m\u001b[0;34m)\u001b[0m\u001b[0;34m\u001b[0m\u001b[0m\n",
      "\u001b[0;32m~/devhome/projects/paramsearch/venv/lib/python3.6/site-packages/hyperopt/fmin.py\u001b[0m in \u001b[0;36mfmin\u001b[0;34m(fn, space, algo, max_evals, trials, rstate, allow_trials_fmin, pass_expr_memo_ctrl, catch_eval_exceptions, verbose, return_argmin, points_to_evaluate, max_queue_len, show_progressbar)\u001b[0m\n\u001b[1;32m    386\u001b[0m             \u001b[0mcatch_eval_exceptions\u001b[0m\u001b[0;34m=\u001b[0m\u001b[0mcatch_eval_exceptions\u001b[0m\u001b[0;34m,\u001b[0m\u001b[0;34m\u001b[0m\u001b[0m\n\u001b[1;32m    387\u001b[0m             \u001b[0mreturn_argmin\u001b[0m\u001b[0;34m=\u001b[0m\u001b[0mreturn_argmin\u001b[0m\u001b[0;34m,\u001b[0m\u001b[0;34m\u001b[0m\u001b[0m\n\u001b[0;32m--> 388\u001b[0;31m             \u001b[0mshow_progressbar\u001b[0m\u001b[0;34m=\u001b[0m\u001b[0mshow_progressbar\u001b[0m\u001b[0;34m,\u001b[0m\u001b[0;34m\u001b[0m\u001b[0m\n\u001b[0m\u001b[1;32m    389\u001b[0m         )\n\u001b[1;32m    390\u001b[0m \u001b[0;34m\u001b[0m\u001b[0m\n",
      "\u001b[0;32m~/devhome/projects/paramsearch/venv/lib/python3.6/site-packages/hyperopt/base.py\u001b[0m in \u001b[0;36mfmin\u001b[0;34m(self, fn, space, algo, max_evals, rstate, verbose, pass_expr_memo_ctrl, catch_eval_exceptions, return_argmin, show_progressbar)\u001b[0m\n\u001b[1;32m    637\u001b[0m             \u001b[0mcatch_eval_exceptions\u001b[0m\u001b[0;34m=\u001b[0m\u001b[0mcatch_eval_exceptions\u001b[0m\u001b[0;34m,\u001b[0m\u001b[0;34m\u001b[0m\u001b[0m\n\u001b[1;32m    638\u001b[0m             \u001b[0mreturn_argmin\u001b[0m\u001b[0;34m=\u001b[0m\u001b[0mreturn_argmin\u001b[0m\u001b[0;34m,\u001b[0m\u001b[0;34m\u001b[0m\u001b[0m\n\u001b[0;32m--> 639\u001b[0;31m             show_progressbar=show_progressbar)\n\u001b[0m\u001b[1;32m    640\u001b[0m \u001b[0;34m\u001b[0m\u001b[0m\n\u001b[1;32m    641\u001b[0m \u001b[0;34m\u001b[0m\u001b[0m\n",
      "\u001b[0;32m~/devhome/projects/paramsearch/venv/lib/python3.6/site-packages/hyperopt/fmin.py\u001b[0m in \u001b[0;36mfmin\u001b[0;34m(fn, space, algo, max_evals, trials, rstate, allow_trials_fmin, pass_expr_memo_ctrl, catch_eval_exceptions, verbose, return_argmin, points_to_evaluate, max_queue_len, show_progressbar)\u001b[0m\n\u001b[1;32m    405\u001b[0m                     show_progressbar=show_progressbar)\n\u001b[1;32m    406\u001b[0m     \u001b[0mrval\u001b[0m\u001b[0;34m.\u001b[0m\u001b[0mcatch_eval_exceptions\u001b[0m \u001b[0;34m=\u001b[0m \u001b[0mcatch_eval_exceptions\u001b[0m\u001b[0;34m\u001b[0m\u001b[0m\n\u001b[0;32m--> 407\u001b[0;31m     \u001b[0mrval\u001b[0m\u001b[0;34m.\u001b[0m\u001b[0mexhaust\u001b[0m\u001b[0;34m(\u001b[0m\u001b[0;34m)\u001b[0m\u001b[0;34m\u001b[0m\u001b[0m\n\u001b[0m\u001b[1;32m    408\u001b[0m     \u001b[0;32mif\u001b[0m \u001b[0mreturn_argmin\u001b[0m\u001b[0;34m:\u001b[0m\u001b[0;34m\u001b[0m\u001b[0m\n\u001b[1;32m    409\u001b[0m         \u001b[0;32mreturn\u001b[0m \u001b[0mtrials\u001b[0m\u001b[0;34m.\u001b[0m\u001b[0margmin\u001b[0m\u001b[0;34m\u001b[0m\u001b[0m\n",
      "\u001b[0;32m~/devhome/projects/paramsearch/venv/lib/python3.6/site-packages/hyperopt/fmin.py\u001b[0m in \u001b[0;36mexhaust\u001b[0;34m(self)\u001b[0m\n\u001b[1;32m    260\u001b[0m     \u001b[0;32mdef\u001b[0m \u001b[0mexhaust\u001b[0m\u001b[0;34m(\u001b[0m\u001b[0mself\u001b[0m\u001b[0;34m)\u001b[0m\u001b[0;34m:\u001b[0m\u001b[0;34m\u001b[0m\u001b[0m\n\u001b[1;32m    261\u001b[0m         \u001b[0mn_done\u001b[0m \u001b[0;34m=\u001b[0m \u001b[0mlen\u001b[0m\u001b[0;34m(\u001b[0m\u001b[0mself\u001b[0m\u001b[0;34m.\u001b[0m\u001b[0mtrials\u001b[0m\u001b[0;34m)\u001b[0m\u001b[0;34m\u001b[0m\u001b[0m\n\u001b[0;32m--> 262\u001b[0;31m         \u001b[0mself\u001b[0m\u001b[0;34m.\u001b[0m\u001b[0mrun\u001b[0m\u001b[0;34m(\u001b[0m\u001b[0mself\u001b[0m\u001b[0;34m.\u001b[0m\u001b[0mmax_evals\u001b[0m \u001b[0;34m-\u001b[0m \u001b[0mn_done\u001b[0m\u001b[0;34m,\u001b[0m \u001b[0mblock_until_done\u001b[0m\u001b[0;34m=\u001b[0m\u001b[0mself\u001b[0m\u001b[0;34m.\u001b[0m\u001b[0masynchronous\u001b[0m\u001b[0;34m)\u001b[0m\u001b[0;34m\u001b[0m\u001b[0m\n\u001b[0m\u001b[1;32m    263\u001b[0m         \u001b[0mself\u001b[0m\u001b[0;34m.\u001b[0m\u001b[0mtrials\u001b[0m\u001b[0;34m.\u001b[0m\u001b[0mrefresh\u001b[0m\u001b[0;34m(\u001b[0m\u001b[0;34m)\u001b[0m\u001b[0;34m\u001b[0m\u001b[0m\n\u001b[1;32m    264\u001b[0m         \u001b[0;32mreturn\u001b[0m \u001b[0mself\u001b[0m\u001b[0;34m\u001b[0m\u001b[0m\n",
      "\u001b[0;32m~/devhome/projects/paramsearch/venv/lib/python3.6/site-packages/hyperopt/fmin.py\u001b[0m in \u001b[0;36mrun\u001b[0;34m(self, N, block_until_done)\u001b[0m\n\u001b[1;32m    209\u001b[0m                                                           d['result'].get('status')))\n\u001b[1;32m    210\u001b[0m                         new_trials = algo(new_ids, self.domain, trials,\n\u001b[0;32m--> 211\u001b[0;31m                                           self.rstate.randint(2 ** 31 - 1))\n\u001b[0m\u001b[1;32m    212\u001b[0m                         \u001b[0;32massert\u001b[0m \u001b[0mlen\u001b[0m\u001b[0;34m(\u001b[0m\u001b[0mnew_ids\u001b[0m\u001b[0;34m)\u001b[0m \u001b[0;34m>=\u001b[0m \u001b[0mlen\u001b[0m\u001b[0;34m(\u001b[0m\u001b[0mnew_trials\u001b[0m\u001b[0;34m)\u001b[0m\u001b[0;34m\u001b[0m\u001b[0m\n\u001b[1;32m    213\u001b[0m                         \u001b[0;32mif\u001b[0m \u001b[0mlen\u001b[0m\u001b[0;34m(\u001b[0m\u001b[0mnew_trials\u001b[0m\u001b[0;34m)\u001b[0m\u001b[0;34m:\u001b[0m\u001b[0;34m\u001b[0m\u001b[0m\n",
      "\u001b[0;32m~/devhome/projects/paramsearch/venv/lib/python3.6/site-packages/hyperopt/tpe.py\u001b[0m in \u001b[0;36msuggest\u001b[0;34m(new_ids, domain, trials, seed, prior_weight, n_startup_jobs, n_EI_candidates, gamma, linear_forgetting)\u001b[0m\n\u001b[1;32m    898\u001b[0m \u001b[0;34m\u001b[0m\u001b[0m\n\u001b[1;32m    899\u001b[0m     idxs, vals = pyll.rec_eval([opt_idxs, opt_vals], memo=memo,\n\u001b[0;32m--> 900\u001b[0;31m                                print_node_on_error=False)\n\u001b[0m\u001b[1;32m    901\u001b[0m \u001b[0;34m\u001b[0m\u001b[0m\n\u001b[1;32m    902\u001b[0m     \u001b[0;31m# -- retrieve the best of the samples and form the return tuple\u001b[0m\u001b[0;34m\u001b[0m\u001b[0;34m\u001b[0m\u001b[0m\n",
      "\u001b[0;32m~/devhome/projects/paramsearch/venv/lib/python3.6/site-packages/hyperopt/pyll/base.py\u001b[0m in \u001b[0;36mrec_eval\u001b[0;34m(expr, deepcopy_inputs, memo, max_program_len, memo_gc, print_trace, print_node_on_error)\u001b[0m\n\u001b[1;32m    911\u001b[0m \u001b[0;34m\u001b[0m\u001b[0m\n\u001b[1;32m    912\u001b[0m             \u001b[0;32mtry\u001b[0m\u001b[0;34m:\u001b[0m\u001b[0;34m\u001b[0m\u001b[0m\n\u001b[0;32m--> 913\u001b[0;31m                 \u001b[0mrval\u001b[0m \u001b[0;34m=\u001b[0m \u001b[0mscope\u001b[0m\u001b[0;34m.\u001b[0m\u001b[0m_impls\u001b[0m\u001b[0;34m[\u001b[0m\u001b[0mnode\u001b[0m\u001b[0;34m.\u001b[0m\u001b[0mname\u001b[0m\u001b[0;34m]\u001b[0m\u001b[0;34m(\u001b[0m\u001b[0;34m*\u001b[0m\u001b[0margs\u001b[0m\u001b[0;34m,\u001b[0m \u001b[0;34m**\u001b[0m\u001b[0mkwargs\u001b[0m\u001b[0;34m)\u001b[0m\u001b[0;34m\u001b[0m\u001b[0m\n\u001b[0m\u001b[1;32m    914\u001b[0m \u001b[0;34m\u001b[0m\u001b[0m\n\u001b[1;32m    915\u001b[0m             \u001b[0;32mexcept\u001b[0m \u001b[0mException\u001b[0m \u001b[0;32mas\u001b[0m \u001b[0me\u001b[0m\u001b[0;34m:\u001b[0m\u001b[0;34m\u001b[0m\u001b[0m\n",
      "\u001b[0;32m~/devhome/projects/paramsearch/venv/lib/python3.6/site-packages/hyperopt/tpe.py\u001b[0m in \u001b[0;36madaptive_parzen_normal\u001b[0;34m(mus, prior_weight, prior_mu, prior_sigma, LF)\u001b[0m\n\u001b[1;32m    463\u001b[0m \u001b[0;34m\u001b[0m\u001b[0m\n\u001b[1;32m    464\u001b[0m     \u001b[0msigma\u001b[0m\u001b[0;34m[\u001b[0m\u001b[0mprior_pos\u001b[0m\u001b[0;34m]\u001b[0m \u001b[0;34m=\u001b[0m \u001b[0mprior_sigma\u001b[0m\u001b[0;34m\u001b[0m\u001b[0m\n\u001b[0;32m--> 465\u001b[0;31m     \u001b[0;32massert\u001b[0m \u001b[0mprior_sigma\u001b[0m \u001b[0;34m>\u001b[0m \u001b[0;36m0\u001b[0m\u001b[0;34m\u001b[0m\u001b[0m\n\u001b[0m\u001b[1;32m    466\u001b[0m     \u001b[0;32massert\u001b[0m \u001b[0mmaxsigma\u001b[0m \u001b[0;34m>\u001b[0m \u001b[0;36m0\u001b[0m\u001b[0;34m\u001b[0m\u001b[0m\n\u001b[1;32m    467\u001b[0m     \u001b[0;32massert\u001b[0m \u001b[0mminsigma\u001b[0m \u001b[0;34m>\u001b[0m \u001b[0;36m0\u001b[0m\u001b[0;34m\u001b[0m\u001b[0m\n",
      "\u001b[0;31mAssertionError\u001b[0m: "
     ],
     "ename": "AssertionError",
     "evalue": "",
     "output_type": "error"
    }
   ],
   "source": [
    "\n",
    "\n",
    "def train_help(args):\n",
    " \n",
    "   try:\n",
    "     \n",
    "      #foo_params = {'n_gpus':2,'gpu_id':0,'tree_method':'gpu_hist', 'max_depth':int(args['params']['max_depth']), 'eta':1, 'num_parallel_tree':int(args['params']['num_parallel_tree']), 'verbosity':3, 'objective':'binary:logistic','eval_metric':'aucpr' }\n",
    "      print(\"Pre-#############################################\")\n",
    "      print(args)\n",
    "      xgbWrapper = spark.sparkContext._jvm.jd.PyTest\n",
    "      #TODO: get params from args\n",
    "      aa=float(args['params']['eta']) \n",
    "      bb=float(args['params']['gamma'])\n",
    "      cc=int(args['params']['max_depth'])\n",
    "      cc=int(args['params']['max_leaves'])\n",
    "      dd=float(args['params']['min_child_weight'])\n",
    "      ee=float(args['params']['subsample'])\n",
    "      ff=float(args['params']['colsample_bytree'])\n",
    "      gg=float(args['params']['colsample_bylevel'])\n",
    "      hh=float(args['params']['colsample_bynode'])\n",
    "      ii=float(args['params']['lambda'])\n",
    "      jj=float(args['params']['alpha'])\n",
    "      kk=int(args['params']['max_leaves'])\n",
    "      ll=int(args['params']['max_bin'])\n",
    "      mm=int(args['params']['num_parallel_tree'])\n",
    "      nn=int(args['params']['num_round'])\n",
    "      oo=int(args['params']['num_early_stopping_rounds'])\n",
    "      \n",
    "      best_score = xgbWrapper.eval(spark.sparkContext._jsc,\n",
    "                                   '/Users/jerdavis/devlib/xgboost/train.csv', \n",
    "                                   float(args['params']['eta']), \n",
    "                                   float(args['params']['gamma']),\n",
    "                                   int(args['params']['max_depth']),\n",
    "                                   int(args['params']['max_leaves']),\n",
    "                                   float(args['params']['min_child_weight']),\n",
    "                                   float(args['params']['subsample']),\n",
    "                                   float(args['params']['colsample_bytree']),\n",
    "                                   float(args['params']['colsample_bylevel']),\n",
    "                                   float(args['params']['colsample_bynode']),\n",
    "                                   float(args['params']['lambda']),\n",
    "                                   float(args['params']['alpha']),\n",
    "                                   int(args['params']['max_bin']),\n",
    "                                   int(args['params']['num_parallel_tree']),\n",
    "                                   int(args['params']['num_round']),\n",
    "                                   int(args['params']['num_early_stopping_rounds']))\n",
    "\n",
    "      \n",
    "      return 1.0 - best_score\n",
    "   except Exception as e:\n",
    "       print(\"EXXXCXXXXXXXXXXXXXXXXXXX\")\n",
    "       print(str(e))\n",
    "       return float(1)\n",
    " \n",
    "\n",
    "from hyperopt import tpe, hp, fmin, Trials\n",
    "\n",
    "param_space = hp.choice( 'foo', [{'model':'foom', 'params': {'eta':hp.uniform('eta', 0, 1),\n",
    "                                                             'gamma':hp.uniform('gamma', 1, 1),\n",
    "                                                             'max_depth':hp.quniform('max_depth', 3, 60, 3),\n",
    "                                                             'max_leaves':0,\n",
    "                                                             'min_child_weight':1.0,\n",
    "                                                             'subsample':1.0,\n",
    "                                                             'colsample_bytree':1.0,\n",
    "                                                             'colsample_bylevel':1.0,\n",
    "                                                             'colsample_bynode':1.0,\n",
    "                                                             'lambda':1.0,\n",
    "                                                             'alpha':0.0,\n",
    "                                                             'max_bin':hp.quniform('max_bin', 32, 512, 32),\n",
    "                                                             'num_parallel_tree':hp.quniform('num_parallel_tree', 2, 60, 2),\n",
    "                                                             'num_round':100,\n",
    "                                                             'num_early_stopping_rounds':10,\n",
    "                                                             }}])\n",
    "\n",
    "# param_space = hp.choice( 'a', [{'model':'foom', 'params': {'eta':hp.uniform('eta', 0, 1),\n",
    "#                                                              }}])\n",
    "\n",
    "\n",
    "trials = Trials()\n",
    "print(\"pre-fmin\")\n",
    "best_params = fmin( fn=train_help, space = param_space, algo=tpe.suggest, max_evals = 120, trials = trials)\n",
    "print(\"post-fmin\")\n",
    "print(best_params)\n",
    "\n",
    "\n"
   ],
   "metadata": {
    "collapsed": false,
    "pycharm": {
     "name": "#%%\n",
     "is_executing": false
    }
   }
  }
 ],
 "metadata": {
  "language_info": {
   "codemirror_mode": {
    "name": "ipython",
    "version": 2
   },
   "file_extension": ".py",
   "mimetype": "text/x-python",
   "name": "python",
   "nbconvert_exporter": "python",
   "pygments_lexer": "ipython2",
   "version": "2.7.6"
  },
  "kernelspec": {
   "name": "python3",
   "language": "python",
   "display_name": "Python 3"
  },
  "pycharm": {
   "stem_cell": {
    "cell_type": "raw",
    "source": [],
    "metadata": {
     "collapsed": false
    }
   }
  }
 },
 "nbformat": 4,
 "nbformat_minor": 0
}