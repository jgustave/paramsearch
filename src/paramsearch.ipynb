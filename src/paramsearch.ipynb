{
 "cells": [
  {
   "cell_type": "code",
   "execution_count": 1,
   "metadata": {
    "collapsed": true,
    "pycharm": {
     "is_executing": false
    }
   },
   "outputs": [
    {
     "name": "stdout",
     "text": [
      "helloworld\n"
     ],
     "output_type": "stream"
    }
   ],
   "source": [
    "\n",
    "print(\"helloworld\")\n",
    "\n"
   ]
  },
  {
   "cell_type": "code",
   "execution_count": 1,
   "outputs": [],
   "source": [
    "\n",
    "import os\n",
    "import findspark\n",
    "findspark.init('/Users/jerdavis/devlib/spark-2.4.3-bin-hadoop2.7/')\n",
    "\n",
    "os.environ['PYSPARK_SUBMIT_ARGS'] = '--jars /Users/jerdavis/devlib/xgboost/xgboost4j-spark-0.90.jar,/Users/jerdavis/devlib/xgboost/xgboost4j-0.90.jar,/Users/jerdavis/devhome/projects/pysparkgw/target/scala-2.11/pysparkgw_2.11-0.1.jar pyspark-shell'\n",
    "findspark.init()\n"
   ],
   "metadata": {
    "collapsed": false,
    "pycharm": {
     "name": "#%%\n",
     "is_executing": false
    }
   }
  },
  {
   "cell_type": "code",
   "execution_count": 2,
   "outputs": [],
   "source": [
    "\n",
    "\n",
    "import numpy\n",
    "import pyspark\n",
    "\n",
    "from pyspark.sql.session import SparkSession\n",
    "from pyspark.sql.types import *\n",
    "from pyspark.ml.feature import StringIndexer, VectorAssembler\n",
    "from pyspark.ml import Pipeline\n",
    "from pyspark.sql.functions import col\n",
    "\n",
    "spark = SparkSession.builder.appName(\"foo\")\\\n",
    "    .master(\"local[*]\")\\\n",
    "    .config(\"spark.driver.memory\",\"8G\")\\\n",
    "    .config(\"spark.driver.maxResultSize\", \"2G\")\\\n",
    "    .getOrCreate()\n",
    "\n",
    "    # .config(\"spark.driver.extraClassPath\", \"/Users/jerdavis/devlib/xgboost/xgboost4j-spark-0.90.jar:/Users/jerdavis/devlib/xgboost/xgboost4j-0.90.jar:/Users/jerdavis/devhome/projects/pysparkgw/target/scala-2.11/pysparkgw_2.11-0.1.jar\")\\\n",
    "    # .config(\"spark.executor.extraClassPath\", \"/Users/jerdavis/devlib/xgboost/xgboost4j-spark-0.90.jar:/Users/jerdavis/devlib/xgboost/xgboost4j-0.90.jar:/Users/jerdavis/devhome/projects/pysparkgw/target/scala-2.11/pysparkgw_2.11-0.1.jar\")\\\n",
    "    # .config(\"spark.jars\", \"/Users/jerdavis/devlib/xgboost/xgboost4j-spark-0.90.jar:/Users/jerdavis/devlib/xgboost/xgboost4j-0.90.jar:/Users/jerdavis/devhome/projects/pysparkgw/target/scala-2.11/pysparkgw_2.11-0.1.jar\")\\\n",
    "\n",
    "#spark.sparkContext.addPyFile(\"/Users/jerdavis/devlib/xgboost/sparkxgb.zip\")\n",
    "\n",
    "#import sparkxgb\n",
    "#from sparkxgb import XGBoostEstimator\n",
    "\n",
    "\n",
    "# selfHelper = spark.sparkContext._jvm.jd.PyTest\n",
    "# selfHelper.quoteRandallzz()\n",
    "\n"
   ],
   "metadata": {
    "collapsed": false,
    "pycharm": {
     "name": "#%%\n",
     "is_executing": false
    }
   }
  },
  {
   "cell_type": "code",
   "execution_count": 3,
   "outputs": [
    {
     "name": "stdout",
     "text": [
      "\n",
      "+-----------+----------+\n|PassengerId|prediction|\n+-----------+----------+\n|        1.0|       0.0|\n|        4.0|       1.0|\n|       14.0|       0.0|\n|       15.0|       1.0|\n|       20.0|       1.0|\n|       28.0|       1.0|\n|       34.0|       0.0|\n|       38.0|       0.0|\n|       50.0|       1.0|\n|       52.0|       0.0|\n|       59.0|       1.0|\n|       60.0|       0.0|\n|       82.0|       0.0|\n|       94.0|       0.0|\n|       96.0|       0.0|\n|       99.0|       1.0|\n|      104.0|       0.0|\n|      105.0|       0.0|\n|      107.0|       1.0|\n|      116.0|       0.0|\n+-----------+----------+\nonly showing top 20 rows\n\n"
     ],
     "output_type": "stream"
    }
   ],
   "source": [
    "\n",
    "selfHelper = spark.sparkContext._jvm.jd.PyTest\n",
    "#selfHelper.foo(123,\"smoo\")\n",
    "print(selfHelper.bar(123,\"smoo\",spark.sparkContext._jsc))\n",
    "\n",
    "rr = spark.sql(\"SELECT * from rr\")\n",
    "rr.show()\n",
    "\n",
    "# schema = StructType(\n",
    "#   [StructField(\"PassengerId\", DoubleType()),\n",
    "#     StructField(\"Survival\", DoubleType()),\n",
    "#     StructField(\"Pclass\", DoubleType()),\n",
    "#     StructField(\"Name\", StringType()),\n",
    "#     StructField(\"Sex\", StringType()),\n",
    "#     StructField(\"Age\", DoubleType()),\n",
    "#     StructField(\"SibSp\", DoubleType()),\n",
    "#     StructField(\"Parch\", DoubleType()),\n",
    "#     StructField(\"Ticket\", StringType()),\n",
    "#     StructField(\"Fare\", DoubleType()),\n",
    "#     StructField(\"Cabin\", StringType()),\n",
    "#     StructField(\"Embarked\", StringType())\n",
    "#   ])\n",
    "# \n",
    "# df_raw = spark\\\n",
    "#   .read\\\n",
    "#   .option(\"header\", \"true\")\\\n",
    "#   .schema(schema)\\\n",
    "#   .csv(\"/Users/jerdavis/devlib/xgboost/train.csv\")\n",
    "# df = df_raw.na.fill(0)\n"
   ],
   "metadata": {
    "collapsed": false,
    "pycharm": {
     "name": "#%%\n",
     "is_executing": false
    }
   }
  },
  {
   "cell_type": "code",
   "execution_count": 10,
   "outputs": [],
   "source": [
    "sexIndexer = StringIndexer()\\\n",
    "  .setInputCol(\"Sex\")\\\n",
    "  .setOutputCol(\"SexIndex\")\\\n",
    "  .setHandleInvalid(\"keep\")\n",
    "    \n",
    "cabinIndexer = StringIndexer()\\\n",
    "  .setInputCol(\"Cabin\")\\\n",
    "  .setOutputCol(\"CabinIndex\")\\\n",
    "  .setHandleInvalid(\"keep\")\n",
    "    \n",
    "embarkedIndexer = StringIndexer()\\\n",
    "  .setInputCol(\"Embarked\")\\\n",
    "  .setOutputCol(\"EmbarkedIndex\")\\\n",
    "  .setHandleInvalid(\"keep\")\n",
    "\n",
    "vectorAssembler = VectorAssembler()\\\n",
    "  .setInputCols([\"Pclass\", \"SexIndex\", \"Age\", \"SibSp\", \"Parch\", \"Fare\", \"CabinIndex\", \"EmbarkedIndex\"])\\\n",
    "  .setOutputCol(\"features\")\n",
    "\n",
    "foo = {\"featuresCol\":\"features\",\"labelCol\":\"Survival\",\"predictionCol\":\"prediction\"}\n",
    "\n",
    "#xgboost = XGBoostEstimator(foo)\n",
    "    # featuresCol=\"features\", \n",
    "    # labelCol=\"Survival\", \n",
    "    # predictionCol=\"prediction\",\n",
    "    # maxDepth=\"20\",\n",
    "\n",
    "\n",
    "# xgboost = XGBoostEstimator(\n",
    "#     featuresCol=\"features\", \n",
    "#     labelCol=\"Survival\", \n",
    "#     predictionCol=\"prediction\")\n",
    "    \n",
    " \n",
    "pipeline = Pipeline().setStages([sexIndexer, cabinIndexer, embarkedIndexer, vectorAssembler, xgboost])\n",
    "\n"
   ],
   "metadata": {
    "collapsed": false,
    "pycharm": {
     "name": "#%%\n",
     "is_executing": false
    }
   }
  },
  {
   "cell_type": "code",
   "execution_count": 5,
   "outputs": [
    {
     "name": "stdout",
     "text": [
      "+-----------+----------+\n|PassengerId|prediction|\n+-----------+----------+\n|        1.0|       0.0|\n|        4.0|       1.0|\n|       14.0|       0.0|\n|       15.0|       1.0|\n|       20.0|       1.0|\n|       28.0|       1.0|\n|       34.0|       0.0|\n|       38.0|       0.0|\n|       50.0|       1.0|\n|       52.0|       0.0|\n|       59.0|       1.0|\n|       60.0|       0.0|\n|       82.0|       0.0|\n|       94.0|       0.0|\n|       96.0|       0.0|\n|       99.0|       1.0|\n|      104.0|       0.0|\n|      105.0|       0.0|\n|      107.0|       1.0|\n|      116.0|       0.0|\n+-----------+----------+\nonly showing top 20 rows\n\n"
     ],
     "output_type": "stream"
    }
   ],
   "source": [
    "trainDF, testDF = df.randomSplit([0.8, 0.2], seed=24)\n",
    "model = pipeline.fit(trainDF)\n",
    "model.transform(testDF).select(col(\"PassengerId\"), col(\"prediction\")).show()\n",
    "\n"
   ],
   "metadata": {
    "collapsed": false,
    "pycharm": {
     "name": "#%%\n",
     "is_executing": false
    }
   }
  }
 ],
 "metadata": {
  "language_info": {
   "codemirror_mode": {
    "name": "ipython",
    "version": 2
   },
   "file_extension": ".py",
   "mimetype": "text/x-python",
   "name": "python",
   "nbconvert_exporter": "python",
   "pygments_lexer": "ipython2",
   "version": "2.7.6"
  },
  "kernelspec": {
   "name": "python3",
   "language": "python",
   "display_name": "Python 3"
  },
  "pycharm": {
   "stem_cell": {
    "cell_type": "raw",
    "source": [],
    "metadata": {
     "collapsed": false
    }
   }
  }
 },
 "nbformat": 4,
 "nbformat_minor": 0
}